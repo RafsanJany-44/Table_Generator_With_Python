{
  "nbformat": 4,
  "nbformat_minor": 0,
  "metadata": {
    "colab": {
      "name": "Generator_engineipynb",
      "provenance": [],
      "authorship_tag": "ABX9TyOrsmUrtx8c/s6DoEceyqKe",
      "include_colab_link": true
    },
    "kernelspec": {
      "name": "python3",
      "display_name": "Python 3"
    },
    "language_info": {
      "name": "python"
    }
  },
  "cells": [
    {
      "cell_type": "markdown",
      "metadata": {
        "id": "view-in-github",
        "colab_type": "text"
      },
      "source": [
        "<a href=\"https://colab.research.google.com/github/RafsanJany-44/Table_Generator_With_Python/blob/main/Generator_engineipynb.ipynb\" target=\"_parent\"><img src=\"https://colab.research.google.com/assets/colab-badge.svg\" alt=\"Open In Colab\"/></a>"
      ]
    },
    {
      "cell_type": "code",
      "metadata": {
        "id": "cuvpnJ62i3Nb"
      },
      "source": [
        "def avg(t):\n",
        "  return sum(t)/len(t)"
      ],
      "execution_count": 7,
      "outputs": []
    },
    {
      "cell_type": "code",
      "metadata": {
        "colab": {
          "base_uri": "https://localhost:8080/"
        },
        "id": "rfb1aKwch_cA",
        "outputId": "461464f7-5f9b-45b0-c832-934e499e96ac"
      },
      "source": [
        "tenis=[22,4,5]\n",
        "golf=[5,6,7]\n",
        "table_tanis=[3,5,6]\n",
        "print(avg(tenis))"
      ],
      "execution_count": 10,
      "outputs": [
        {
          "output_type": "stream",
          "text": [
            "10.333333333333334\n"
          ],
          "name": "stdout"
        }
      ]
    },
    {
      "cell_type": "code",
      "metadata": {
        "id": "QSKeco5iiT1S"
      },
      "source": [
        "4\n"
      ],
      "execution_count": null,
      "outputs": []
    }
  ]
}